{
 "cells": [
  {
   "cell_type": "code",
   "execution_count": 10,
   "metadata": {
    "ExecuteTime": {
     "end_time": "2016-05-10T01:47:47.937400",
     "start_time": "2016-05-10T01:47:47.914431"
    },
    "cell_style": "center",
    "collapsed": false,
    "nbpresent": {
     "id": "c3714051-fe7d-4df2-a71f-4d3ee365931d"
    },
    "urth": {
     "dashboard": {
      "layout": {}
     }
    }
   },
   "outputs": [
    {
     "data": {
      "text/html": [
       "<script>jQuery(function() {if (jQuery(\"body.notebook_app\").length == 0) { jQuery(\".input_area\").toggle(); jQuery(\".prompt\").toggle();}});</script>"
      ]
     },
     "metadata": {},
     "output_type": "display_data"
    },
    {
     "data": {
      "text/html": [
       "<button onclick=\"jQuery('.input_area').toggle(); jQuery('.prompt').toggle();\">Toggle code</button>"
      ]
     },
     "metadata": {},
     "output_type": "display_data"
    }
   ],
   "source": [
    "from IPython.display import display\n",
    "from IPython.display import HTML\n",
    "import IPython.core.display as di # Example: di.display_html('<h3>%s:</h3>' % str, raw=True)\n",
    "\n",
    "# This line will hide code by default when the notebook is exported as HTML\n",
    "di.display_html('<script>jQuery(function() {if (jQuery(\"body.notebook_app\").length == 0) { jQuery(\".input_area\").toggle(); jQuery(\".prompt\").toggle();}});</script>', raw=True)\n",
    "\n",
    "# This line will add a button to toggle visibility of code blocks, for use with the HTML export version\n",
    "di.display_html('''<button onclick=\"jQuery('.input_area').toggle(); jQuery('.prompt').toggle();\">Toggle code</button>''', raw=True)"
   ]
  },
  {
   "cell_type": "code",
   "execution_count": 11,
   "metadata": {
    "ExecuteTime": {
     "end_time": "2016-05-10T01:47:47.971812",
     "start_time": "2016-05-10T01:47:47.946152"
    },
    "collapsed": false,
    "nbpresent": {
     "id": "37e5245d-aaeb-48de-bcc2-b06bb795bc48"
    },
    "urth": {
     "dashboard": {
      "layout": {}
     }
    }
   },
   "outputs": [
    {
     "name": "stdout",
     "output_type": "stream",
     "text": [
      "1.9.10\n"
     ]
    }
   ],
   "source": [
    "import plotly\n",
    "print plotly.__version__  "
   ]
  },
  {
   "cell_type": "code",
   "execution_count": 12,
   "metadata": {
    "ExecuteTime": {
     "end_time": "2016-05-10T01:47:48.012212",
     "start_time": "2016-05-10T01:47:47.976851"
    },
    "cell_style": "center",
    "collapsed": false,
    "nbpresent": {
     "id": "e45ce52a-d2dd-4a85-8e3c-852acfa5abcd"
    },
    "scrolled": false,
    "urth": {
     "dashboard": {
      "layout": {}
     }
    }
   },
   "outputs": [
    {
     "data": {
      "text/html": [
       "<iframe srcdoc=\"\n",
       "            <!-- Load c3.css -->\n",
       "            <link href='https://cdnjs.cloudflare.com/ajax/libs/c3/0.4.10/c3.min.css' rel='stylesheet' type='text/css'/>\n",
       "\n",
       "            <!-- Load d3.js and c3.js -->\n",
       "            <script src='http://d3js.org/d3.v3.min.js' charset='utf-8'></script>\n",
       "            <script src='http://cdnjs.cloudflare.com/ajax/libs/c3/0.4.10/c3.min.js'></script>\n",
       "\n",
       "        \n",
       "            <div id=chart style='width: 100%; height: 100%'></div>\n",
       "            <script>\n",
       "                var chart = document.getElementById('chart');\n",
       "                var data = {\n",
       "    'data': {\n",
       "        'groups': [\n",
       "            [\n",
       "                'data1', \n",
       "                'data2', \n",
       "                'data3'\n",
       "            ]\n",
       "        ], \n",
       "        'types': {\n",
       "            'data1': 'area-spline', \n",
       "            'data3': 'area-spline', \n",
       "            'data2': 'area-spline'\n",
       "        }, \n",
       "        'columns': [\n",
       "            [\n",
       "                'data1', \n",
       "                300, \n",
       "                350, \n",
       "                300, \n",
       "                0, \n",
       "                0, \n",
       "                120\n",
       "            ], \n",
       "            [\n",
       "                'data2', \n",
       "                130, \n",
       "                100, \n",
       "                140, \n",
       "                200, \n",
       "                150, \n",
       "                50\n",
       "            ], \n",
       "            [\n",
       "                'data3', \n",
       "                180, \n",
       "                75, \n",
       "                265, \n",
       "                100, \n",
       "                50, \n",
       "                100\n",
       "            ]\n",
       "        ]\n",
       "    }\n",
       "};\n",
       "                data['bindto']='#chart'\n",
       "                c3.generate(data);\n",
       "            </script>\n",
       "        \" src=\"\" width=\"800\" height=\"420\" sandbox=\"allow-scripts\"></iframe>"
      ],
      "text/plain": [
       "<IPython.core.display.HTML object>"
      ]
     },
     "execution_count": 12,
     "metadata": {},
     "output_type": "execute_result"
    }
   ],
   "source": [
    "from iplotter import C3Plotter\n",
    "\n",
    "plotter = C3Plotter()\n",
    "\n",
    "chart = {\n",
    "    \"data\": {\n",
    "        \"columns\": [\n",
    "            ['data1', 300, 350, 300, 0, 0, 120],\n",
    "            ['data2', 130, 100, 140, 200, 150, 50],\n",
    "            ['data3', 180, 75, 265, 100, 50, 100]\n",
    "        ],\n",
    "        \"types\": {\n",
    "            \"data1\": 'area-spline',\n",
    "            \"data2\": 'area-spline',\n",
    "            \"data3\": 'area-spline'\n",
    "        },\n",
    "        \"groups\": [['data1', 'data2', 'data3']]\n",
    "    }\n",
    "}\n",
    "\n",
    "plotter.plot(chart)"
   ]
  },
  {
   "cell_type": "code",
   "execution_count": 13,
   "metadata": {
    "ExecuteTime": {
     "end_time": "2016-05-10T01:47:48.205285",
     "start_time": "2016-05-10T01:47:48.019762"
    },
    "cell_style": "center",
    "collapsed": false,
    "nbpresent": {
     "id": "37345baf-f7ba-4be3-9fc7-02591c764a89"
    },
    "urth": {
     "dashboard": {
      "layout": {}
     }
    }
   },
   "outputs": [
    {
     "name": "stdout",
     "output_type": "stream",
     "text": [
      "\n",
      "Please wait a moment while I gather a list of all available modules...\n",
      "\n",
      "BaseHTTPServer      binascii            jupyter             sha\n",
      "Bastion             binhex              jupyter_client      shelve\n",
      "CDROM               bisect              jupyter_console     shlex\n",
      "CGIHTTPServer       bsddb               jupyter_core        shutil\n",
      "Canvas              bz2                 keyword             shutil_backports\n",
      "ConfigParser        cPickle             lib2to3             signal\n",
      "Cookie              cProfile            linecache           simplegeneric\n",
      "DLFCN               cStringIO           linuxaudiodev       singledispatch\n",
      "Dialog              calendar            locale              singledispatch_helpers\n",
      "DocXMLRPCServer     certifi             logging             sip\n",
      "FileDialog          cgi                 macpath             sipconfig\n",
      "FixTk               cgitb               macurl2path         sipdistutils\n",
      "HTMLParser          chunk               mailbox             site\n",
      "IN                  cmath               mailcap             six\n",
      "IPython             cmd                 markupbase          smtpd\n",
      "MimeWriter          code                markupsafe          smtplib\n",
      "PyQt4               codecs              marshal             sndhdr\n",
      "Queue               codeop              math                socket\n",
      "ScrolledText        collections         md5                 spwd\n",
      "SimpleDialog        colorsys            mhlib               sqlite3\n",
      "SimpleHTTPServer    command             mimetools           sre\n",
      "SimpleXMLRPCServer  commands            mimetypes           sre_compile\n",
      "SocketServer        compileall          mimify              sre_constants\n",
      "StringIO            compiler            mistune             sre_parse\n",
      "TYPES               configparser        mmap                ssl\n",
      "Tix                 configparser_helpers modulefinder        stat\n",
      "Tkconstants         contextlib          multifile           statvfs\n",
      "Tkdnd               cookielib           multiprocessing     storemagic\n",
      "Tkinter             copy                mutex               string\n",
      "UserDict            copy_reg            nbconvert           stringold\n",
      "UserList            crypt               nbformat            stringprep\n",
      "UserString          csv                 netrc               strop\n",
      "_LWPCookieJar       ctypes              new                 struct\n",
      "_MozillaCookieJar   curses              nis                 subprocess\n",
      "__builtin__         cythonmagic         nntplib             sunau\n",
      "__future__          datetime            notebook            sunaudio\n",
      "_abcoll             dbhash              ntpath              symbol\n",
      "_ast                decimal             nturl2path          sympyprinting\n",
      "_bisect             decorator           numbers             symtable\n",
      "_codecs             difflib             opcode              sys\n",
      "_codecs_cn          dircache            operator            sysconfig\n",
      "_codecs_hk          dis                 optparse            syslog\n",
      "_codecs_iso2022     distutils           os                  tabnanny\n",
      "_codecs_jp          doctest             os2emxpath          tarfile\n",
      "_codecs_kr          dumbdbm             ossaudiodev         telnetlib\n",
      "_codecs_tw          dummy_thread        parser              tempfile\n",
      "_collections        dummy_threading     path                terminado\n",
      "_csv                easy_install        pathlib2            termios\n",
      "_ctypes             email               pdb                 test_path\n",
      "_ctypes_test        encodings           pexpect             tests\n",
      "_curses             entrypoints         pickle              textwrap\n",
      "_curses_panel       errno               pickleshare         this\n",
      "_elementtree        exceptions          pickletools         thread\n",
      "_functools          extern              pip                 threading\n",
      "_hashlib            fcntl               pipes               time\n",
      "_heapq              filecmp             pkg_resources       timeit\n",
      "_hotshot            fileinput           pkgutil             tkColorChooser\n",
      "_io                 fnmatch             platform            tkCommonDialog\n",
      "_json               formatter           plistlib            tkFileDialog\n",
      "_locale             fpformat            plotly              tkFont\n",
      "_lsprof             fractions           popen2              tkMessageBox\n",
      "_multibytecodec     ftplib              poplib              tkSimpleDialog\n",
      "_multiprocessing    functools           posix               toaiff\n",
      "_osx_support        functools32         posixfile           token\n",
      "_pyio               future_builtins     posixpath           tokenize\n",
      "_random             gc                  pprint              tornado\n",
      "_socket             genericpath         profile             trace\n",
      "_sqlite3            getopt              pstats              traceback\n",
      "_sre                getpass             psutil              traitlets\n",
      "_ssl                gettext             pty                 ttk\n",
      "_strptime           glob                ptyprocess          tty\n",
      "_struct             grp                 pwd                 turtle\n",
      "_symtable           gzip                py_compile          types\n",
      "_sysconfigdata      hashlib             pyclbr              unicodedata\n",
      "_testcapi           heapq               pydoc               unittest\n",
      "_threading_local    hmac                pydoc_data          urllib\n",
      "_tkinter            hotshot             pyexpat             urllib2\n",
      "_vendor             htmlentitydefs      pygments            urlparse\n",
      "_warnings           htmllib             pytz                user\n",
      "_weakref            httplib             qtconsole           uu\n",
      "_weakrefset         idlelib             quopri              uuid\n",
      "abc                 ihooks              random              warnings\n",
      "aifc                imaplib             re                  wave\n",
      "antigravity         imghdr              readline            weakref\n",
      "anydbm              imp                 repr                webbrowser\n",
      "argparse            importlib           requests            wheel\n",
      "array               imputil             resource            whichdb\n",
      "ast                 inspect             rexec               wsgiref\n",
      "asynchat            io                  rfc822              xdrlib\n",
      "asyncore            iplotter            rlcompleter         xml\n",
      "atexit              ipyext              rmagic              xmllib\n",
      "audiodev            ipykernel           robotparser         xmlrpclib\n",
      "audioop             ipython_genutils    runpy               xxsubtype\n",
      "autoreload          ipywidgets          sched               yaml\n",
      "backports           itertools           select              zipfile\n",
      "backports_abc       jinja2              sets                zipimport\n",
      "base64              json                setuptools          zlib\n",
      "bdb                 jsonschema          sgmllib             zmq\n",
      "\n",
      "Enter any module name to get more help.  Or, type \"modules spam\" to search\n",
      "for modules whose descriptions contain the word \"spam\".\n",
      "\n"
     ]
    }
   ],
   "source": [
    "help('modules')"
   ]
  },
  {
   "cell_type": "code",
   "execution_count": 14,
   "metadata": {
    "ExecuteTime": {
     "end_time": "2016-05-10T01:47:48.217474",
     "start_time": "2016-05-10T01:47:48.209650"
    },
    "collapsed": false,
    "nbpresent": {
     "id": "60a9fc50-5ae5-4f87-8b78-f0f670f20e03"
    },
    "urth": {
     "dashboard": {
      "layout": {}
     }
    }
   },
   "outputs": [
    {
     "name": "stdout",
     "output_type": "stream",
     "text": [
      "/home/vagrant/.local/lib/python2.7/site-packages/IPython/__init__.pyc\n"
     ]
    }
   ],
   "source": [
    "import IPython\n",
    "\n",
    "print(IPython.__file__)"
   ]
  },
  {
   "cell_type": "code",
   "execution_count": 15,
   "metadata": {
    "ExecuteTime": {
     "end_time": "2016-05-10T02:13:08.452780",
     "start_time": "2016-05-10T02:13:08.439065"
    },
    "collapsed": false,
    "nbpresent": {
     "id": "09316def-6bec-4680-8bb1-73f4fa78488e"
    },
    "urth": {
     "dashboard": {
      "layout": {}
     }
    }
   },
   "outputs": [
    {
     "data": {
      "application/json": {
       "cell": {
        "!": "OSMagics",
        "HTML": "Other",
        "SVG": "Other",
        "bash": "Other",
        "capture": "ExecutionMagics",
        "debug": "ExecutionMagics",
        "file": "Other",
        "html": "DisplayMagics",
        "javascript": "DisplayMagics",
        "latex": "DisplayMagics",
        "perl": "Other",
        "prun": "ExecutionMagics",
        "pypy": "Other",
        "python": "Other",
        "python2": "Other",
        "python3": "Other",
        "ruby": "Other",
        "script": "ScriptMagics",
        "sh": "Other",
        "svg": "DisplayMagics",
        "sx": "OSMagics",
        "system": "OSMagics",
        "time": "ExecutionMagics",
        "timeit": "ExecutionMagics",
        "writefile": "OSMagics"
       },
       "line": {
        "alias": "OSMagics",
        "alias_magic": "BasicMagics",
        "autocall": "AutoMagics",
        "automagic": "AutoMagics",
        "autosave": "KernelMagics",
        "bookmark": "OSMagics",
        "cat": "Other",
        "cd": "OSMagics",
        "clear": "KernelMagics",
        "colors": "BasicMagics",
        "config": "ConfigMagics",
        "connect_info": "KernelMagics",
        "cp": "Other",
        "debug": "ExecutionMagics",
        "dhist": "OSMagics",
        "dirs": "OSMagics",
        "doctest_mode": "BasicMagics",
        "ed": "Other",
        "edit": "KernelMagics",
        "env": "OSMagics",
        "gui": "BasicMagics",
        "hist": "Other",
        "history": "HistoryMagics",
        "install_default_config": "DeprecatedMagics",
        "install_ext": "ExtensionMagics",
        "install_profiles": "DeprecatedMagics",
        "killbgscripts": "ScriptMagics",
        "ldir": "Other",
        "less": "KernelMagics",
        "lf": "Other",
        "lk": "Other",
        "ll": "Other",
        "load": "CodeMagics",
        "load_ext": "ExtensionMagics",
        "loadpy": "CodeMagics",
        "logoff": "LoggingMagics",
        "logon": "LoggingMagics",
        "logstart": "LoggingMagics",
        "logstate": "LoggingMagics",
        "logstop": "LoggingMagics",
        "ls": "Other",
        "lsmagic": "BasicMagics",
        "lx": "Other",
        "macro": "ExecutionMagics",
        "magic": "BasicMagics",
        "man": "KernelMagics",
        "matplotlib": "PylabMagics",
        "mkdir": "Other",
        "more": "KernelMagics",
        "mv": "Other",
        "notebook": "BasicMagics",
        "page": "BasicMagics",
        "pastebin": "CodeMagics",
        "pdb": "ExecutionMagics",
        "pdef": "NamespaceMagics",
        "pdoc": "NamespaceMagics",
        "pfile": "NamespaceMagics",
        "pinfo": "NamespaceMagics",
        "pinfo2": "NamespaceMagics",
        "popd": "OSMagics",
        "pprint": "BasicMagics",
        "precision": "BasicMagics",
        "profile": "BasicMagics",
        "prun": "ExecutionMagics",
        "psearch": "NamespaceMagics",
        "psource": "NamespaceMagics",
        "pushd": "OSMagics",
        "pwd": "OSMagics",
        "pycat": "OSMagics",
        "pylab": "PylabMagics",
        "qtconsole": "KernelMagics",
        "quickref": "BasicMagics",
        "recall": "HistoryMagics",
        "rehashx": "OSMagics",
        "reload_ext": "ExtensionMagics",
        "rep": "Other",
        "rerun": "HistoryMagics",
        "reset": "NamespaceMagics",
        "reset_selective": "NamespaceMagics",
        "rm": "Other",
        "rmdir": "Other",
        "run": "ExecutionMagics",
        "save": "CodeMagics",
        "sc": "OSMagics",
        "set_env": "OSMagics",
        "store": "StoreMagics",
        "sx": "OSMagics",
        "system": "OSMagics",
        "tb": "ExecutionMagics",
        "time": "ExecutionMagics",
        "timeit": "ExecutionMagics",
        "unalias": "OSMagics",
        "unload_ext": "ExtensionMagics",
        "who": "NamespaceMagics",
        "who_ls": "NamespaceMagics",
        "whos": "NamespaceMagics",
        "xdel": "NamespaceMagics",
        "xmode": "BasicMagics"
       }
      },
      "text/plain": [
       "Available line magics:\n",
       "%alias  %alias_magic  %autocall  %automagic  %autosave  %bookmark  %cat  %cd  %clear  %colors  %config  %connect_info  %cp  %debug  %dhist  %dirs  %doctest_mode  %ed  %edit  %env  %gui  %hist  %history  %install_default_config  %install_ext  %install_profiles  %killbgscripts  %ldir  %less  %lf  %lk  %ll  %load  %load_ext  %loadpy  %logoff  %logon  %logstart  %logstate  %logstop  %ls  %lsmagic  %lx  %macro  %magic  %man  %matplotlib  %mkdir  %more  %mv  %notebook  %page  %pastebin  %pdb  %pdef  %pdoc  %pfile  %pinfo  %pinfo2  %popd  %pprint  %precision  %profile  %prun  %psearch  %psource  %pushd  %pwd  %pycat  %pylab  %qtconsole  %quickref  %recall  %rehashx  %reload_ext  %rep  %rerun  %reset  %reset_selective  %rm  %rmdir  %run  %save  %sc  %set_env  %store  %sx  %system  %tb  %time  %timeit  %unalias  %unload_ext  %who  %who_ls  %whos  %xdel  %xmode\n",
       "\n",
       "Available cell magics:\n",
       "%%!  %%HTML  %%SVG  %%bash  %%capture  %%debug  %%file  %%html  %%javascript  %%latex  %%perl  %%prun  %%pypy  %%python  %%python2  %%python3  %%ruby  %%script  %%sh  %%svg  %%sx  %%system  %%time  %%timeit  %%writefile\n",
       "\n",
       "Automagic is ON, % prefix IS NOT needed for line magics."
      ]
     },
     "execution_count": 15,
     "metadata": {},
     "output_type": "execute_result"
    }
   ],
   "source": [
    "% lsmagic"
   ]
  },
  {
   "cell_type": "code",
   "execution_count": null,
   "metadata": {
    "collapsed": true,
    "nbpresent": {
     "id": "73e68309-7cb1-4afe-958e-1fb55bbf034e"
    },
    "urth": {
     "dashboard": {
      "hidden": true,
      "layout": {}
     }
    }
   },
   "outputs": [],
   "source": []
  }
 ],
 "metadata": {
  "gist": {
   "data": {
    "description": "maybegit/tensorflow-exercise/tensorflow/plotly.ipynb",
    "public": false
   },
   "id": ""
  },
  "hide_input": false,
  "kernelspec": {
   "display_name": "Python 2",
   "language": "python",
   "name": "python2"
  },
  "language_info": {
   "codemirror_mode": {
    "name": "ipython",
    "version": 2
   },
   "file_extension": ".py",
   "mimetype": "text/x-python",
   "name": "python",
   "nbconvert_exporter": "python",
   "pygments_lexer": "ipython2",
   "version": "2.7.11"
  },
  "nbpresent": {
   "slides": {},
   "themes": {
    "default": "c6ca2333-f420-417e-814f-2c67c28ec9dd",
    "theme": {
     "c6ca2333-f420-417e-814f-2c67c28ec9dd": {
      "backgrounds": {
       "backgroundColor": {
        "background-color": "backgroundColor",
        "id": "backgroundColor"
       }
      },
      "id": "c6ca2333-f420-417e-814f-2c67c28ec9dd",
      "palette": {
       "backgroundColor": {
        "id": "backgroundColor",
        "rgb": [
         43,
         43,
         43
        ]
       },
       "headingColor": {
        "id": "headingColor",
        "rgb": [
         238,
         238,
         238
        ]
       },
       "linkColor": {
        "id": "linkColor",
        "rgb": [
         19,
         218,
         236
        ]
       },
       "mainColor": {
        "id": "mainColor",
        "rgb": [
         238,
         238,
         238
        ]
       }
      },
      "rules": {
       "a": {
        "color": "linkColor"
       },
       "h1": {
        "color": "headingColor",
        "font-family": "Oswald",
        "font-size": 7
       },
       "h2": {
        "color": "headingColor",
        "font-family": "Oswald",
        "font-size": 5
       },
       "h3": {
        "color": "headingColor",
        "font-family": "Oswald",
        "font-size": 3.75
       },
       "h4": {
        "color": "headingColor",
        "font-family": "Oswald",
        "font-size": 3
       },
       "h5": {
        "color": "headingColor",
        "font-family": "Oswald"
       },
       "h6": {
        "color": "headingColor",
        "font-family": "Oswald"
       },
       "h7": {
        "color": "headingColor",
        "font-family": "Oswald"
       },
       "li": {
        "color": "mainColor",
        "font-family": "Lato",
        "font-size": 5
       },
       "p": {
        "color": "mainColor",
        "font-family": "Lato",
        "font-size": 5
       }
      },
      "text-base": {
       "color": "mainColor",
       "font-family": "Lato",
       "font-size": 5
      }
     }
    }
   }
  },
  "toc": {
   "toc_cell": false,
   "toc_number_sections": true,
   "toc_section_display": "block",
   "toc_threshold": 6,
   "toc_window_display": false
  },
  "urth": {
   "dashboard": {
    "layout": "report"
   }
  }
 },
 "nbformat": 4,
 "nbformat_minor": 0
}
