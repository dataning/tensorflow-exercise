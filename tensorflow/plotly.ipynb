{
 "cells": [
  {
   "cell_type": "code",
   "execution_count": 6,
   "metadata": {
    "collapsed": false
   },
   "outputs": [
    {
     "data": {
      "text/html": [
       "\n",
       "        <iframe\n",
       "            width=\"600\"\n",
       "            height=\"600\"\n",
       "            src=\"heatmap1.html\"\n",
       "            frameborder=\"0\"\n",
       "            allowfullscreen\n",
       "        ></iframe>\n",
       "        "
      ],
      "text/plain": [
       "<IPython.lib.display.IFrame at 0x7fe7addd3d10>"
      ]
     },
     "execution_count": 6,
     "metadata": {},
     "output_type": "execute_result"
    }
   ],
   "source": [
    "from iplotter.iplotter import PlotlyPlotter\n",
    "\n",
    "plotter = PlotlyPlotter()\n",
    "\n",
    "data = [\n",
    "    {\n",
    "        'colorscale': 'YIGnBu',\n",
    "        'reversescale': True,\n",
    "        'type': 'heatmap',\n",
    "        'x': ['class1', 'class2', 'class3'],\n",
    "        'y': ['class1', 'class2', 'class3'],\n",
    "        'z': [[0.7,  0.2,  0.1],\n",
    "              [0.2,  0.7,  0.1],\n",
    "              [0.15,  0.27,  0.56]]\n",
    "    }\n",
    "]\n",
    "\n",
    "layout = {\n",
    "    \"title\": 'Title',\n",
    "    \"xaxis\": {\n",
    "        \"tickangle\": -45\n",
    "    },\n",
    "}\n",
    "\n",
    "plotter.plot_and_save(data, layout=layout, w=600, h=600, filename='heatmap1', overwrite=True)"
   ]
  },
  {
   "cell_type": "code",
   "execution_count": null,
   "metadata": {
    "collapsed": true
   },
   "outputs": [],
   "source": []
  }
 ],
 "metadata": {
  "kernelspec": {
   "display_name": "Python 2",
   "language": "python",
   "name": "python2"
  },
  "language_info": {
   "codemirror_mode": {
    "name": "ipython",
    "version": 2
   },
   "file_extension": ".py",
   "mimetype": "text/x-python",
   "name": "python",
   "nbconvert_exporter": "python",
   "pygments_lexer": "ipython2",
   "version": "2.7.11"
  }
 },
 "nbformat": 4,
 "nbformat_minor": 0
}
