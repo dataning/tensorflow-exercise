{
 "cells": [
  {
   "cell_type": "code",
   "execution_count": 1,
   "metadata": {
    "collapsed": false
   },
   "outputs": [
    {
     "name": "stdout",
     "output_type": "stream",
     "text": [
      "Extracting MNIST_data/train-images-idx3-ubyte.gz\n",
      "Extracting MNIST_data/train-labels-idx1-ubyte.gz\n",
      "Extracting MNIST_data/t10k-images-idx3-ubyte.gz\n",
      "Extracting MNIST_data/t10k-labels-idx1-ubyte.gz\n"
     ]
    }
   ],
   "source": [
    "from tensorflow.examples.tutorials.mnist import input_data\n",
    "mnist = input_data.read_data_sets('MNIST_data', one_hot=True)"
   ]
  },
  {
   "cell_type": "code",
   "execution_count": 2,
   "metadata": {
    "collapsed": false
   },
   "outputs": [],
   "source": [
    "import tensorflow as tf\n",
    "sess = tf.InteractiveSession()"
   ]
  },
  {
   "cell_type": "code",
   "execution_count": 3,
   "metadata": {
    "collapsed": true
   },
   "outputs": [],
   "source": [
    "x = tf.placeholder(tf.float32, shape=[None, 784], name=\"x-input\")\n",
    "W = tf.Variable(tf.zeros([784,10]) , name=\"weights\")\n",
    "b = tf.Variable(tf.zeros([10] , name=\"bias\"))"
   ]
  },
  {
   "cell_type": "code",
   "execution_count": 4,
   "metadata": {
    "collapsed": true
   },
   "outputs": [],
   "source": [
    "with tf.name_scope(\"Wx_b\") as scope:\n",
    "    y = tf.nn.softmax(tf.matmul(x,W) + b)"
   ]
  },
  {
   "cell_type": "code",
   "execution_count": 5,
   "metadata": {
    "collapsed": true
   },
   "outputs": [],
   "source": [
    "w_hist = tf.histogram_summary(\"weights\", W)\n",
    "b_hist = tf.histogram_summary(\"biases\", b)\n",
    "y_hist = tf.histogram_summary(\"y\", y)"
   ]
  },
  {
   "cell_type": "code",
   "execution_count": 6,
   "metadata": {
    "collapsed": true
   },
   "outputs": [],
   "source": [
    "y_ = tf.placeholder(tf.float32, shape=[None, 10], name=\"y-input\")"
   ]
  },
  {
   "cell_type": "code",
   "execution_count": 7,
   "metadata": {
    "collapsed": false
   },
   "outputs": [],
   "source": [
    "with tf.name_scope(\"xent\") as scope:\n",
    "    cross_entropy = -tf.reduce_sum(y_*tf.log(y))\n",
    "    ce_cum = tf.scalar_summary(\"cross entropy\", cross_entropy)"
   ]
  },
  {
   "cell_type": "code",
   "execution_count": 8,
   "metadata": {
    "collapsed": true
   },
   "outputs": [],
   "source": [
    "with tf.name_scope(\"train\") as scope:\n",
    "    train_step = tf.train.GradientDescentOptimizer(0.01).minimize(cross_entropy)"
   ]
  },
  {
   "cell_type": "code",
   "execution_count": 9,
   "metadata": {
    "collapsed": false
   },
   "outputs": [],
   "source": [
    "with tf.name_scope(\"test\") as scope:\n",
    "    correct_prediction = tf.equal(tf.argmax(y,1), tf.argmax(y_,1))\n",
    "    accuracy = tf.reduce_mean(tf.cast(correct_prediction, tf.float32))\n",
    "    accuracy_summary = tf.scalar_summary(\"accuracy\",accuracy)"
   ]
  },
  {
   "cell_type": "code",
   "execution_count": 10,
   "metadata": {
    "collapsed": true
   },
   "outputs": [],
   "source": [
    "merged = tf.merge_all_summaries()\n",
    "writer = tf.train.SummaryWriter(\"/tmp/mnist_logs\", sess.graph_def)\n",
    "tf.initialize_all_variables().run()"
   ]
  },
  {
   "cell_type": "code",
   "execution_count": 11,
   "metadata": {
    "collapsed": false
   },
   "outputs": [
    {
     "name": "stdout",
     "output_type": "stream",
     "text": [
      "Accuracy at step 0: 0.098\n",
      "Accuracy at step 10: 0.7404\n",
      "Accuracy at step 20: 0.8041\n",
      "Accuracy at step 30: 0.814\n",
      "Accuracy at step 40: 0.8421\n",
      "Accuracy at step 50: 0.8381\n",
      "Accuracy at step 60: 0.8518\n",
      "Accuracy at step 70: 0.8403\n",
      "Accuracy at step 80: 0.8066\n",
      "Accuracy at step 90: 0.8624\n",
      "Accuracy at step 100: 0.871\n",
      "Accuracy at step 110: 0.8864\n",
      "Accuracy at step 120: 0.8973\n",
      "Accuracy at step 130: 0.8957\n",
      "Accuracy at step 140: 0.8817\n",
      "Accuracy at step 150: 0.8612\n",
      "Accuracy at step 160: 0.8835\n",
      "Accuracy at step 170: 0.8527\n",
      "Accuracy at step 180: 0.8993\n",
      "Accuracy at step 190: 0.9012\n",
      "Accuracy at step 200: 0.8909\n",
      "Accuracy at step 210: 0.9038\n",
      "Accuracy at step 220: 0.8846\n",
      "Accuracy at step 230: 0.8921\n",
      "Accuracy at step 240: 0.9017\n",
      "Accuracy at step 250: 0.901\n",
      "Accuracy at step 260: 0.8994\n",
      "Accuracy at step 270: 0.9067\n",
      "Accuracy at step 280: 0.9004\n",
      "Accuracy at step 290: 0.9079\n",
      "Accuracy at step 300: 0.9014\n",
      "Accuracy at step 310: 0.8989\n",
      "Accuracy at step 320: 0.8703\n",
      "Accuracy at step 330: 0.8248\n",
      "Accuracy at step 340: 0.882\n",
      "Accuracy at step 350: 0.8976\n",
      "Accuracy at step 360: 0.8746\n",
      "Accuracy at step 370: 0.9066\n",
      "Accuracy at step 380: 0.9081\n",
      "Accuracy at step 390: 0.9\n",
      "Accuracy at step 400: 0.9033\n",
      "Accuracy at step 410: 0.9054\n",
      "Accuracy at step 420: 0.9042\n",
      "Accuracy at step 430: 0.9066\n",
      "Accuracy at step 440: 0.9057\n",
      "Accuracy at step 450: 0.9088\n",
      "Accuracy at step 460: 0.9051\n",
      "Accuracy at step 470: 0.9035\n",
      "Accuracy at step 480: 0.9108\n",
      "Accuracy at step 490: 0.908\n",
      "Accuracy at step 500: 0.9093\n",
      "Accuracy at step 510: 0.8299\n",
      "Accuracy at step 520: 0.9018\n",
      "Accuracy at step 530: 0.9133\n",
      "Accuracy at step 540: 0.9085\n",
      "Accuracy at step 550: 0.8733\n",
      "Accuracy at step 560: 0.9076\n",
      "Accuracy at step 570: 0.9124\n",
      "Accuracy at step 580: 0.9151\n",
      "Accuracy at step 590: 0.9124\n",
      "Accuracy at step 600: 0.9111\n",
      "Accuracy at step 610: 0.8914\n",
      "Accuracy at step 620: 0.9126\n",
      "Accuracy at step 630: 0.9124\n",
      "Accuracy at step 640: 0.9126\n",
      "Accuracy at step 650: 0.914\n",
      "Accuracy at step 660: 0.908\n",
      "Accuracy at step 670: 0.8977\n",
      "Accuracy at step 680: 0.9088\n",
      "Accuracy at step 690: 0.916\n",
      "Accuracy at step 700: 0.9114\n",
      "Accuracy at step 710: 0.9186\n",
      "Accuracy at step 720: 0.9153\n",
      "Accuracy at step 730: 0.915\n",
      "Accuracy at step 740: 0.9117\n",
      "Accuracy at step 750: 0.9019\n",
      "Accuracy at step 760: 0.913\n",
      "Accuracy at step 770: 0.9176\n",
      "Accuracy at step 780: 0.9123\n",
      "Accuracy at step 790: 0.9183\n",
      "Accuracy at step 800: 0.9147\n",
      "Accuracy at step 810: 0.9145\n",
      "Accuracy at step 820: 0.9156\n",
      "Accuracy at step 830: 0.9174\n",
      "Accuracy at step 840: 0.9056\n",
      "Accuracy at step 850: 0.9121\n",
      "Accuracy at step 860: 0.9134\n",
      "Accuracy at step 870: 0.9158\n",
      "Accuracy at step 880: 0.9104\n",
      "Accuracy at step 890: 0.9115\n",
      "Accuracy at step 900: 0.8987\n",
      "Accuracy at step 910: 0.9149\n",
      "Accuracy at step 920: 0.9142\n",
      "Accuracy at step 930: 0.9163\n",
      "Accuracy at step 940: 0.9169\n",
      "Accuracy at step 950: 0.9113\n",
      "Accuracy at step 960: 0.9184\n",
      "Accuracy at step 970: 0.9105\n",
      "Accuracy at step 980: 0.9158\n",
      "Accuracy at step 990: 0.9133\n"
     ]
    }
   ],
   "source": [
    "for i in range(1000):\n",
    "    if i % 10 == 0:\n",
    "        feed = {x: mnist.test.images, y_: mnist.test.labels}\n",
    "        result = sess.run([merged, accuracy], feed_dict=feed)\n",
    "        summary_str = result[0]\n",
    "        acc = result[1]\n",
    "        writer.add_summary(summary_str, i)\n",
    "        print(\"Accuracy at step %s: %s\" % (i, acc))\n",
    "    else:\n",
    "        batch_xs, batch_ys = mnist.train.next_batch(100)\n",
    "        feed = {x: batch_xs, y_: batch_ys}\n",
    "        sess.run(train_step, feed_dict=feed)"
   ]
  },
  {
   "cell_type": "code",
   "execution_count": 12,
   "metadata": {
    "collapsed": false
   },
   "outputs": [
    {
     "name": "stdout",
     "output_type": "stream",
     "text": [
      "0.9126\n"
     ]
    }
   ],
   "source": [
    "print(accuracy.eval(feed_dict={x: mnist.test.images, y_: mnist.test.labels}))"
   ]
  }
 ],
 "metadata": {
  "kernelspec": {
   "display_name": "Python 2",
   "language": "python",
   "name": "python2"
  },
  "language_info": {
   "codemirror_mode": {
    "name": "ipython",
    "version": 2
   },
   "file_extension": ".py",
   "mimetype": "text/x-python",
   "name": "python",
   "nbconvert_exporter": "python",
   "pygments_lexer": "ipython2",
   "version": "2.7.6"
  }
 },
 "nbformat": 4,
 "nbformat_minor": 0
}
