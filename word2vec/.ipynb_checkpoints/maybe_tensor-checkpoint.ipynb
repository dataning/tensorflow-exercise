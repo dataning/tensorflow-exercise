{
 "cells": [
  {
   "cell_type": "code",
   "execution_count": 1,
   "metadata": {
    "collapsed": false,
    "scrolled": true
   },
   "outputs": [],
   "source": [
    "import numpy as np\n",
    "import math\n",
    "import tensorflow as tf\n"
   ]
  },
  {
   "cell_type": "markdown",
   "metadata": {},
   "source": [
    "- ndarray "
   ]
  },
  {
   "cell_type": "code",
   "execution_count": 2,
   "metadata": {
    "collapsed": false
   },
   "outputs": [
    {
     "name": "stdout",
     "output_type": "stream",
     "text": [
      "[         0          0      91136 1694499428   40501248   33587968\n",
      " 1677722458    5439491]\n",
      "[[-501504024]\n",
      " [     32703]\n",
      " [  56084048]\n",
      " [         0]\n",
      " [-557001216]\n",
      " [     32703]\n",
      " [-497290400]\n",
      " [     32703]]\n",
      "1\n",
      "0.0883883476483\n"
     ]
    }
   ],
   "source": [
    "\n",
    "\n",
    "a= np.ndarray(shape=(8), dtype=np.int32)\n",
    "b= np.ndarray(shape=(8,1), dtype=np.int32)\n",
    "\n",
    "print(a)\n",
    "print(b)\n",
    "\n",
    "print(8//5)\n",
    "\n",
    "print(1.0 / math.sqrt(128))"
   ]
  },
  {
   "cell_type": "markdown",
   "metadata": {},
   "source": [
    "- tensorflow tensor"
   ]
  },
  {
   "cell_type": "code",
   "execution_count": 27,
   "metadata": {
    "collapsed": false
   },
   "outputs": [
    {
     "name": "stdout",
     "output_type": "stream",
     "text": [
      "[[-0.01622636  0.02969197  0.00130659]\n",
      " [ 0.00198497  0.01279394  0.03221742]\n",
      " [ 0.00327071 -0.03031411  0.02717555]]\n",
      "[[ 0.80273888  0.01536912]\n",
      " [ 0.20622039  0.76342378]]\n",
      "[[ 0.64755917  0.02407054]\n",
      " [ 0.32297468  0.5859853 ]]\n"
     ]
    }
   ],
   "source": [
    "test1 = tf.truncated_normal([3, 3], mean=0.0, stddev=0.02, dtype=tf.float32, seed=1)\n",
    "sess = tf.Session()\n",
    "print(sess.run(test1))\n",
    "\n",
    "sess.close()\n",
    "\n",
    "\n",
    "\n",
    "x = tf.placeholder(shape=(2,2), dtype=tf.float32)\n",
    "y = tf.matmul(x,x) \n",
    "sess = tf.Session()\n",
    "rand_array = np.random.rand(2, 2)\n",
    "print(rand_array)\n",
    "print(sess.run(y, feed_dict={x: rand_array})) \n",
    "\n",
    "sess.close()"
   ]
  },
  {
   "cell_type": "code",
   "execution_count": 32,
   "metadata": {
    "collapsed": false
   },
   "outputs": [
    {
     "name": "stdout",
     "output_type": "stream",
     "text": [
      "[[ 0.41038074  0.9652716   0.71577108]\n",
      " [ 0.60012481  0.76705593  0.03730099]\n",
      " [ 0.93938528  0.1849368   0.28629927]\n",
      " [ 0.86377649  0.43333502  0.46368545]\n",
      " [ 0.26341223  0.32706197  0.35687686]\n",
      " [ 0.84385229  0.69774397  0.76078267]\n",
      " [ 0.25737797  0.69880288  0.5042324 ]\n",
      " [ 0.06922825  0.94953132  0.27133368]]\n"
     ]
    }
   ],
   "source": [
    "print(np.random.random((8, 3)))"
   ]
  },
  {
   "cell_type": "code",
   "execution_count": null,
   "metadata": {
    "collapsed": true
   },
   "outputs": [],
   "source": []
  }
 ],
 "metadata": {
  "kernelspec": {
   "display_name": "Python 2",
   "language": "python",
   "name": "python2"
  },
  "language_info": {
   "codemirror_mode": {
    "name": "ipython",
    "version": 2
   },
   "file_extension": ".py",
   "mimetype": "text/x-python",
   "name": "python",
   "nbconvert_exporter": "python",
   "pygments_lexer": "ipython2",
   "version": "2.7.6"
  }
 },
 "nbformat": 4,
 "nbformat_minor": 0
}
